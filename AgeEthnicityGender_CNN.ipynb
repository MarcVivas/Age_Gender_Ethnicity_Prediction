{
  "cells": [
    {
      "cell_type": "markdown",
      "metadata": {
        "id": "paw0wAN-yUM5"
      },
      "source": [
        "Author: Marc Vivas Baiges\n",
        "<br>\n",
        "E-mail: vivasmarc001@gmail.com"
      ]
    },
    {
      "cell_type": "markdown",
      "metadata": {
        "id": "st0jLIPVwGBg"
      },
      "source": [
        "# <h1> Image recognition - Age, gender and ethnicity classifier </h1>\n"
      ]
    },
    {
      "cell_type": "markdown",
      "metadata": {
        "id": "Cu9y0E-Uyj7j"
      },
      "source": [
        "## Introduction"
      ]
    },
    {
      "cell_type": "markdown",
      "metadata": {
        "id": "9j0N-2Hbwq5v"
      },
      "source": [
        "I will be using a CSV of facial images that are labeled on the basis of age, gender, and ethnicity.\n",
        "\n",
        "\n",
        "<br> You can download the dataset in the following link:\n",
        "https://www.kaggle.com/datasets/nipunarora8/age-gender-and-ethnicity-face-data-csv"
      ]
    },
    {
      "cell_type": "markdown",
      "metadata": {
        "id": "yUiQ4hOA2vyu"
      },
      "source": [
        "## Dependencies"
      ]
    },
    {
      "cell_type": "code",
      "execution_count": 100,
      "metadata": {
        "id": "O6PDN77c2iBS"
      },
      "outputs": [],
      "source": [
        "from google.colab import drive\n",
        "import tensorflow as tf\n",
        "from tensorflow.keras import layers, models\n",
        "import tensorflow.keras as keras\n",
        "import matplotlib.pyplot as plt\n",
        "import numpy as np\n",
        "import pandas as pd\n",
        "from keras.utils.np_utils import to_categorical\n",
        "\n",
        "from sklearn.model_selection import train_test_split\n",
        "from sklearn.metrics import confusion_matrix, ConfusionMatrixDisplay\n",
        "from sklearn.metrics import f1_score\n",
        "from sklearn.metrics import precision_score\n",
        "from sklearn.metrics import recall_score\n",
        "from sklearn.metrics import accuracy_score\n"
      ]
    },
    {
      "cell_type": "markdown",
      "metadata": {
        "id": "5qURX9Wlxhh5"
      },
      "source": [
        "## <h1> Data loading </h1>\n",
        "\n",
        "\n"
      ]
    },
    {
      "cell_type": "code",
      "execution_count": 2,
      "metadata": {
        "colab": {
          "base_uri": "https://localhost:8080/"
        },
        "id": "BstzHY3q3sC3",
        "outputId": "35271731-f02e-4ad8-e0bb-9a55e505cde9"
      },
      "outputs": [
        {
          "output_type": "stream",
          "name": "stdout",
          "text": [
            "Mounted at /content/drive\n"
          ]
        }
      ],
      "source": [
        "drive.mount('/content/drive')"
      ]
    },
    {
      "cell_type": "code",
      "execution_count": 3,
      "metadata": {
        "id": "Ej8HLMOr1pxL"
      },
      "outputs": [],
      "source": [
        "PATH_DATA_RAW = 'drive/MyDrive/Colab Notebooks/Datasets/age_gender.csv'"
      ]
    },
    {
      "cell_type": "code",
      "execution_count": 4,
      "metadata": {
        "id": "UHnugJWev225"
      },
      "outputs": [],
      "source": [
        "df_raw = pd.read_csv(PATH_DATA_RAW)\n"
      ]
    },
    {
      "cell_type": "markdown",
      "metadata": {
        "id": "mNIFhByNKhhF"
      },
      "source": [
        "## Functions"
      ]
    },
    {
      "cell_type": "code",
      "execution_count": 139,
      "metadata": {
        "id": "_WPucvMSKlR0"
      },
      "outputs": [],
      "source": [
        "def classification_evaluation(model, x_test, y_test):\n",
        "  y_pred = model.predict(x_test)\n",
        "  if len(y_pred[0]) > 1:\n",
        "    y_pred = y_pred.argmax(axis=1)\n",
        "    \n",
        "  else:\n",
        "    for i in range(len(y_pred)):\n",
        "      y_pred[i][0] = round(y_pred[i][0])\n",
        "      if y_pred[i][0] <0:\n",
        "        y_pred[i][0] = 0\n",
        "      elif y_pred[i][0] >1:\n",
        "        y_pred[i][0] = 1\n",
        "    \n",
        "   \n",
        "  cm = confusion_matrix(y_test, y_pred)  \n",
        "  disp = ConfusionMatrixDisplay(confusion_matrix=cm)\n",
        "  disp.plot(\n",
        "      cmap=plt.cm.Blues,\n",
        "  )  \n",
        "\n",
        "  print(\"\")\n",
        "  print(f' Accuracy: {accuracy_score(y_test, y_pred) * 100}%')\n",
        "  \n",
        "\n",
        "  plt.show()"
      ]
    },
    {
      "cell_type": "code",
      "source": [
        "def build_model(output_act_fn, output_num_neurons, loss, metrics):\n",
        "  model = keras.Sequential([\n",
        "        # Convolutional layers\n",
        "        \n",
        "\n",
        "        layers.Conv2D(filters=64, kernel_size=(3, 3), activation='relu'), \n",
        "        layers.MaxPooling2D(pool_size=(2, 2)),\n",
        "        layers.Dropout(.15),\n",
        "\n",
        "               \n",
        "        layers.Conv2D(filters=128, kernel_size=(3, 3), activation='relu'), \n",
        "        layers.MaxPooling2D(pool_size=(2, 2)),\n",
        "        layers.Dropout(.15),\n",
        "\n",
        "       \n",
        "      \n",
        "        layers.Flatten(), \n",
        "\n",
        "        # Fully connected layers\n",
        "       \n",
        "        layers.Dense(output_num_neurons, activation=output_act_fn),\n",
        "                                  \n",
        "  ])\n",
        "  model.compile(optimizer='adam',\n",
        "              loss=loss,\n",
        "              metrics=metrics\n",
        "              )\n",
        "  return model\n"
      ],
      "metadata": {
        "id": "CgeyWQ0K89uI"
      },
      "execution_count": 163,
      "outputs": []
    },
    {
      "cell_type": "markdown",
      "metadata": {
        "id": "Zfsi-Nrb2IyD"
      },
      "source": [
        "## Data understanding"
      ]
    },
    {
      "cell_type": "code",
      "execution_count": 6,
      "metadata": {
        "colab": {
          "base_uri": "https://localhost:8080/",
          "height": 206
        },
        "id": "qmk9LLXx2QJl",
        "outputId": "79897fcb-962c-4b3d-cdf0-42cf6d7e7f08"
      },
      "outputs": [
        {
          "output_type": "execute_result",
          "data": {
            "text/plain": [
              "   age  ethnicity  gender                        img_name  \\\n",
              "0    1          2       0  20161219203650636.jpg.chip.jpg   \n",
              "1    1          2       0  20161219222752047.jpg.chip.jpg   \n",
              "2    1          2       0  20161219222832191.jpg.chip.jpg   \n",
              "3    1          2       0  20161220144911423.jpg.chip.jpg   \n",
              "4    1          2       0  20161220144914327.jpg.chip.jpg   \n",
              "\n",
              "                                              pixels  \n",
              "0  129 128 128 126 127 130 133 135 139 142 145 14...  \n",
              "1  164 74 111 168 169 171 175 182 184 188 193 199...  \n",
              "2  67 70 71 70 69 67 70 79 90 103 116 132 145 155...  \n",
              "3  193 197 198 200 199 200 202 203 204 205 208 21...  \n",
              "4  202 205 209 210 209 209 210 211 212 214 218 21...  "
            ],
            "text/html": [
              "\n",
              "  <div id=\"df-cb394581-c465-495d-aec5-9aa97b1ad08f\">\n",
              "    <div class=\"colab-df-container\">\n",
              "      <div>\n",
              "<style scoped>\n",
              "    .dataframe tbody tr th:only-of-type {\n",
              "        vertical-align: middle;\n",
              "    }\n",
              "\n",
              "    .dataframe tbody tr th {\n",
              "        vertical-align: top;\n",
              "    }\n",
              "\n",
              "    .dataframe thead th {\n",
              "        text-align: right;\n",
              "    }\n",
              "</style>\n",
              "<table border=\"1\" class=\"dataframe\">\n",
              "  <thead>\n",
              "    <tr style=\"text-align: right;\">\n",
              "      <th></th>\n",
              "      <th>age</th>\n",
              "      <th>ethnicity</th>\n",
              "      <th>gender</th>\n",
              "      <th>img_name</th>\n",
              "      <th>pixels</th>\n",
              "    </tr>\n",
              "  </thead>\n",
              "  <tbody>\n",
              "    <tr>\n",
              "      <th>0</th>\n",
              "      <td>1</td>\n",
              "      <td>2</td>\n",
              "      <td>0</td>\n",
              "      <td>20161219203650636.jpg.chip.jpg</td>\n",
              "      <td>129 128 128 126 127 130 133 135 139 142 145 14...</td>\n",
              "    </tr>\n",
              "    <tr>\n",
              "      <th>1</th>\n",
              "      <td>1</td>\n",
              "      <td>2</td>\n",
              "      <td>0</td>\n",
              "      <td>20161219222752047.jpg.chip.jpg</td>\n",
              "      <td>164 74 111 168 169 171 175 182 184 188 193 199...</td>\n",
              "    </tr>\n",
              "    <tr>\n",
              "      <th>2</th>\n",
              "      <td>1</td>\n",
              "      <td>2</td>\n",
              "      <td>0</td>\n",
              "      <td>20161219222832191.jpg.chip.jpg</td>\n",
              "      <td>67 70 71 70 69 67 70 79 90 103 116 132 145 155...</td>\n",
              "    </tr>\n",
              "    <tr>\n",
              "      <th>3</th>\n",
              "      <td>1</td>\n",
              "      <td>2</td>\n",
              "      <td>0</td>\n",
              "      <td>20161220144911423.jpg.chip.jpg</td>\n",
              "      <td>193 197 198 200 199 200 202 203 204 205 208 21...</td>\n",
              "    </tr>\n",
              "    <tr>\n",
              "      <th>4</th>\n",
              "      <td>1</td>\n",
              "      <td>2</td>\n",
              "      <td>0</td>\n",
              "      <td>20161220144914327.jpg.chip.jpg</td>\n",
              "      <td>202 205 209 210 209 209 210 211 212 214 218 21...</td>\n",
              "    </tr>\n",
              "  </tbody>\n",
              "</table>\n",
              "</div>\n",
              "      <button class=\"colab-df-convert\" onclick=\"convertToInteractive('df-cb394581-c465-495d-aec5-9aa97b1ad08f')\"\n",
              "              title=\"Convert this dataframe to an interactive table.\"\n",
              "              style=\"display:none;\">\n",
              "        \n",
              "  <svg xmlns=\"http://www.w3.org/2000/svg\" height=\"24px\"viewBox=\"0 0 24 24\"\n",
              "       width=\"24px\">\n",
              "    <path d=\"M0 0h24v24H0V0z\" fill=\"none\"/>\n",
              "    <path d=\"M18.56 5.44l.94 2.06.94-2.06 2.06-.94-2.06-.94-.94-2.06-.94 2.06-2.06.94zm-11 1L8.5 8.5l.94-2.06 2.06-.94-2.06-.94L8.5 2.5l-.94 2.06-2.06.94zm10 10l.94 2.06.94-2.06 2.06-.94-2.06-.94-.94-2.06-.94 2.06-2.06.94z\"/><path d=\"M17.41 7.96l-1.37-1.37c-.4-.4-.92-.59-1.43-.59-.52 0-1.04.2-1.43.59L10.3 9.45l-7.72 7.72c-.78.78-.78 2.05 0 2.83L4 21.41c.39.39.9.59 1.41.59.51 0 1.02-.2 1.41-.59l7.78-7.78 2.81-2.81c.8-.78.8-2.07 0-2.86zM5.41 20L4 18.59l7.72-7.72 1.47 1.35L5.41 20z\"/>\n",
              "  </svg>\n",
              "      </button>\n",
              "      \n",
              "  <style>\n",
              "    .colab-df-container {\n",
              "      display:flex;\n",
              "      flex-wrap:wrap;\n",
              "      gap: 12px;\n",
              "    }\n",
              "\n",
              "    .colab-df-convert {\n",
              "      background-color: #E8F0FE;\n",
              "      border: none;\n",
              "      border-radius: 50%;\n",
              "      cursor: pointer;\n",
              "      display: none;\n",
              "      fill: #1967D2;\n",
              "      height: 32px;\n",
              "      padding: 0 0 0 0;\n",
              "      width: 32px;\n",
              "    }\n",
              "\n",
              "    .colab-df-convert:hover {\n",
              "      background-color: #E2EBFA;\n",
              "      box-shadow: 0px 1px 2px rgba(60, 64, 67, 0.3), 0px 1px 3px 1px rgba(60, 64, 67, 0.15);\n",
              "      fill: #174EA6;\n",
              "    }\n",
              "\n",
              "    [theme=dark] .colab-df-convert {\n",
              "      background-color: #3B4455;\n",
              "      fill: #D2E3FC;\n",
              "    }\n",
              "\n",
              "    [theme=dark] .colab-df-convert:hover {\n",
              "      background-color: #434B5C;\n",
              "      box-shadow: 0px 1px 3px 1px rgba(0, 0, 0, 0.15);\n",
              "      filter: drop-shadow(0px 1px 2px rgba(0, 0, 0, 0.3));\n",
              "      fill: #FFFFFF;\n",
              "    }\n",
              "  </style>\n",
              "\n",
              "      <script>\n",
              "        const buttonEl =\n",
              "          document.querySelector('#df-cb394581-c465-495d-aec5-9aa97b1ad08f button.colab-df-convert');\n",
              "        buttonEl.style.display =\n",
              "          google.colab.kernel.accessAllowed ? 'block' : 'none';\n",
              "\n",
              "        async function convertToInteractive(key) {\n",
              "          const element = document.querySelector('#df-cb394581-c465-495d-aec5-9aa97b1ad08f');\n",
              "          const dataTable =\n",
              "            await google.colab.kernel.invokeFunction('convertToInteractive',\n",
              "                                                     [key], {});\n",
              "          if (!dataTable) return;\n",
              "\n",
              "          const docLinkHtml = 'Like what you see? Visit the ' +\n",
              "            '<a target=\"_blank\" href=https://colab.research.google.com/notebooks/data_table.ipynb>data table notebook</a>'\n",
              "            + ' to learn more about interactive tables.';\n",
              "          element.innerHTML = '';\n",
              "          dataTable['output_type'] = 'display_data';\n",
              "          await google.colab.output.renderOutput(dataTable, element);\n",
              "          const docLink = document.createElement('div');\n",
              "          docLink.innerHTML = docLinkHtml;\n",
              "          element.appendChild(docLink);\n",
              "        }\n",
              "      </script>\n",
              "    </div>\n",
              "  </div>\n",
              "  "
            ]
          },
          "metadata": {},
          "execution_count": 6
        }
      ],
      "source": [
        "df_raw.head()"
      ]
    },
    {
      "cell_type": "code",
      "execution_count": 7,
      "metadata": {
        "colab": {
          "base_uri": "https://localhost:8080/"
        },
        "id": "xsRl5U9J2aqA",
        "outputId": "97be80d3-95c2-471a-9531-dd8421bc2e4d"
      },
      "outputs": [
        {
          "output_type": "stream",
          "name": "stdout",
          "text": [
            "<class 'pandas.core.frame.DataFrame'>\n",
            "RangeIndex: 23705 entries, 0 to 23704\n",
            "Data columns (total 5 columns):\n",
            " #   Column     Non-Null Count  Dtype \n",
            "---  ------     --------------  ----- \n",
            " 0   age        23705 non-null  int64 \n",
            " 1   ethnicity  23705 non-null  int64 \n",
            " 2   gender     23705 non-null  int64 \n",
            " 3   img_name   23705 non-null  object\n",
            " 4   pixels     23705 non-null  object\n",
            "dtypes: int64(3), object(2)\n",
            "memory usage: 926.1+ KB\n"
          ]
        }
      ],
      "source": [
        "df_raw.info()"
      ]
    },
    {
      "cell_type": "code",
      "execution_count": 8,
      "metadata": {
        "colab": {
          "base_uri": "https://localhost:8080/",
          "height": 300
        },
        "id": "Jc4eh_rf2yEK",
        "outputId": "63e76602-29a4-4f1b-9333-0ff3493e73bd"
      },
      "outputs": [
        {
          "output_type": "execute_result",
          "data": {
            "text/plain": [
              "                age     ethnicity        gender\n",
              "count  23705.000000  23705.000000  23705.000000\n",
              "mean      33.300907      1.269226      0.477283\n",
              "std       19.885708      1.345638      0.499494\n",
              "min        1.000000      0.000000      0.000000\n",
              "25%       23.000000      0.000000      0.000000\n",
              "50%       29.000000      1.000000      0.000000\n",
              "75%       45.000000      2.000000      1.000000\n",
              "max      116.000000      4.000000      1.000000"
            ],
            "text/html": [
              "\n",
              "  <div id=\"df-f751ac9f-491e-44ad-921c-98cb1b8e529c\">\n",
              "    <div class=\"colab-df-container\">\n",
              "      <div>\n",
              "<style scoped>\n",
              "    .dataframe tbody tr th:only-of-type {\n",
              "        vertical-align: middle;\n",
              "    }\n",
              "\n",
              "    .dataframe tbody tr th {\n",
              "        vertical-align: top;\n",
              "    }\n",
              "\n",
              "    .dataframe thead th {\n",
              "        text-align: right;\n",
              "    }\n",
              "</style>\n",
              "<table border=\"1\" class=\"dataframe\">\n",
              "  <thead>\n",
              "    <tr style=\"text-align: right;\">\n",
              "      <th></th>\n",
              "      <th>age</th>\n",
              "      <th>ethnicity</th>\n",
              "      <th>gender</th>\n",
              "    </tr>\n",
              "  </thead>\n",
              "  <tbody>\n",
              "    <tr>\n",
              "      <th>count</th>\n",
              "      <td>23705.000000</td>\n",
              "      <td>23705.000000</td>\n",
              "      <td>23705.000000</td>\n",
              "    </tr>\n",
              "    <tr>\n",
              "      <th>mean</th>\n",
              "      <td>33.300907</td>\n",
              "      <td>1.269226</td>\n",
              "      <td>0.477283</td>\n",
              "    </tr>\n",
              "    <tr>\n",
              "      <th>std</th>\n",
              "      <td>19.885708</td>\n",
              "      <td>1.345638</td>\n",
              "      <td>0.499494</td>\n",
              "    </tr>\n",
              "    <tr>\n",
              "      <th>min</th>\n",
              "      <td>1.000000</td>\n",
              "      <td>0.000000</td>\n",
              "      <td>0.000000</td>\n",
              "    </tr>\n",
              "    <tr>\n",
              "      <th>25%</th>\n",
              "      <td>23.000000</td>\n",
              "      <td>0.000000</td>\n",
              "      <td>0.000000</td>\n",
              "    </tr>\n",
              "    <tr>\n",
              "      <th>50%</th>\n",
              "      <td>29.000000</td>\n",
              "      <td>1.000000</td>\n",
              "      <td>0.000000</td>\n",
              "    </tr>\n",
              "    <tr>\n",
              "      <th>75%</th>\n",
              "      <td>45.000000</td>\n",
              "      <td>2.000000</td>\n",
              "      <td>1.000000</td>\n",
              "    </tr>\n",
              "    <tr>\n",
              "      <th>max</th>\n",
              "      <td>116.000000</td>\n",
              "      <td>4.000000</td>\n",
              "      <td>1.000000</td>\n",
              "    </tr>\n",
              "  </tbody>\n",
              "</table>\n",
              "</div>\n",
              "      <button class=\"colab-df-convert\" onclick=\"convertToInteractive('df-f751ac9f-491e-44ad-921c-98cb1b8e529c')\"\n",
              "              title=\"Convert this dataframe to an interactive table.\"\n",
              "              style=\"display:none;\">\n",
              "        \n",
              "  <svg xmlns=\"http://www.w3.org/2000/svg\" height=\"24px\"viewBox=\"0 0 24 24\"\n",
              "       width=\"24px\">\n",
              "    <path d=\"M0 0h24v24H0V0z\" fill=\"none\"/>\n",
              "    <path d=\"M18.56 5.44l.94 2.06.94-2.06 2.06-.94-2.06-.94-.94-2.06-.94 2.06-2.06.94zm-11 1L8.5 8.5l.94-2.06 2.06-.94-2.06-.94L8.5 2.5l-.94 2.06-2.06.94zm10 10l.94 2.06.94-2.06 2.06-.94-2.06-.94-.94-2.06-.94 2.06-2.06.94z\"/><path d=\"M17.41 7.96l-1.37-1.37c-.4-.4-.92-.59-1.43-.59-.52 0-1.04.2-1.43.59L10.3 9.45l-7.72 7.72c-.78.78-.78 2.05 0 2.83L4 21.41c.39.39.9.59 1.41.59.51 0 1.02-.2 1.41-.59l7.78-7.78 2.81-2.81c.8-.78.8-2.07 0-2.86zM5.41 20L4 18.59l7.72-7.72 1.47 1.35L5.41 20z\"/>\n",
              "  </svg>\n",
              "      </button>\n",
              "      \n",
              "  <style>\n",
              "    .colab-df-container {\n",
              "      display:flex;\n",
              "      flex-wrap:wrap;\n",
              "      gap: 12px;\n",
              "    }\n",
              "\n",
              "    .colab-df-convert {\n",
              "      background-color: #E8F0FE;\n",
              "      border: none;\n",
              "      border-radius: 50%;\n",
              "      cursor: pointer;\n",
              "      display: none;\n",
              "      fill: #1967D2;\n",
              "      height: 32px;\n",
              "      padding: 0 0 0 0;\n",
              "      width: 32px;\n",
              "    }\n",
              "\n",
              "    .colab-df-convert:hover {\n",
              "      background-color: #E2EBFA;\n",
              "      box-shadow: 0px 1px 2px rgba(60, 64, 67, 0.3), 0px 1px 3px 1px rgba(60, 64, 67, 0.15);\n",
              "      fill: #174EA6;\n",
              "    }\n",
              "\n",
              "    [theme=dark] .colab-df-convert {\n",
              "      background-color: #3B4455;\n",
              "      fill: #D2E3FC;\n",
              "    }\n",
              "\n",
              "    [theme=dark] .colab-df-convert:hover {\n",
              "      background-color: #434B5C;\n",
              "      box-shadow: 0px 1px 3px 1px rgba(0, 0, 0, 0.15);\n",
              "      filter: drop-shadow(0px 1px 2px rgba(0, 0, 0, 0.3));\n",
              "      fill: #FFFFFF;\n",
              "    }\n",
              "  </style>\n",
              "\n",
              "      <script>\n",
              "        const buttonEl =\n",
              "          document.querySelector('#df-f751ac9f-491e-44ad-921c-98cb1b8e529c button.colab-df-convert');\n",
              "        buttonEl.style.display =\n",
              "          google.colab.kernel.accessAllowed ? 'block' : 'none';\n",
              "\n",
              "        async function convertToInteractive(key) {\n",
              "          const element = document.querySelector('#df-f751ac9f-491e-44ad-921c-98cb1b8e529c');\n",
              "          const dataTable =\n",
              "            await google.colab.kernel.invokeFunction('convertToInteractive',\n",
              "                                                     [key], {});\n",
              "          if (!dataTable) return;\n",
              "\n",
              "          const docLinkHtml = 'Like what you see? Visit the ' +\n",
              "            '<a target=\"_blank\" href=https://colab.research.google.com/notebooks/data_table.ipynb>data table notebook</a>'\n",
              "            + ' to learn more about interactive tables.';\n",
              "          element.innerHTML = '';\n",
              "          dataTable['output_type'] = 'display_data';\n",
              "          await google.colab.output.renderOutput(dataTable, element);\n",
              "          const docLink = document.createElement('div');\n",
              "          docLink.innerHTML = docLinkHtml;\n",
              "          element.appendChild(docLink);\n",
              "        }\n",
              "      </script>\n",
              "    </div>\n",
              "  </div>\n",
              "  "
            ]
          },
          "metadata": {},
          "execution_count": 8
        }
      ],
      "source": [
        "df_raw.describe()"
      ]
    },
    {
      "cell_type": "markdown",
      "metadata": {
        "id": "D6YeumLa29tG"
      },
      "source": [
        "### Columns study "
      ]
    },
    {
      "cell_type": "markdown",
      "metadata": {
        "id": "9eBlCAxn3FGu"
      },
      "source": [
        "Brief definition of each column value and an expected value which can end up providing to the study."
      ]
    },
    {
      "cell_type": "markdown",
      "metadata": {
        "id": "a7dOeLfl321T"
      },
      "source": [
        "1. age: Age of the person in the photo, it is one of the objectives attributes.\n",
        "2. ethnicity: Ethnicity of the person in the photo, it is one of the objectives attributes.\n",
        "> There is a total of 5 categories in the ethnicity column encoded as:\n",
        "> <br> 0 --> White\n",
        "> <br> 1 --> Black \n",
        "> <br> 2 --> Asian\n",
        "> <br> 3 --> Indian\n",
        "> <br> 4 --> Hispanic\n",
        "\n",
        "3. gender: Gender of the person in the photo, it is one of the objectives attributes.\n",
        "> There are 2 possible genders encoded as:\n",
        "> <br> 0 --> Male\n",
        "> <br> 1 --> Female\n",
        "\n",
        "4. img_name: Image file name. This column won't be used because it doesn't provide useful information for the future models.\n",
        "5. pixels: Array to String of the image pixels. This is the image, obviously is going to be used."
      ]
    },
    {
      "cell_type": "markdown",
      "metadata": {
        "id": "Bx_d4OKq-9hU"
      },
      "source": [
        "## Data preparation (1)"
      ]
    },
    {
      "cell_type": "markdown",
      "metadata": {
        "id": "dCaSouGu_DFr"
      },
      "source": [
        "Drop img_name column"
      ]
    },
    {
      "cell_type": "code",
      "execution_count": 145,
      "metadata": {
        "id": "lbGCWaBt-3IL"
      },
      "outputs": [],
      "source": [
        "df = df_raw.drop(['img_name'], axis=1)\n"
      ]
    },
    {
      "cell_type": "code",
      "execution_count": 146,
      "metadata": {
        "colab": {
          "base_uri": "https://localhost:8080/"
        },
        "id": "hsM8AKWP5rqY",
        "outputId": "2369f872-a4f2-45ef-a52f-3ff4a4ef5630"
      },
      "outputs": [
        {
          "output_type": "stream",
          "name": "stdout",
          "text": [
            "num_pixels = 2304\n",
            "img_height = 48\n",
            "img_width = 48\n"
          ]
        }
      ],
      "source": [
        "num_pixels = len(df['pixels'][0].split(\" \"))\n",
        "img_height = int(np.sqrt(len(df['pixels'][0].split(\" \"))))\n",
        "img_width = int(np.sqrt(len(df['pixels'][0].split(\" \"))))\n",
        "print(f'num_pixels = {num_pixels}\\nimg_height = {img_height}\\nimg_width = {img_width}')"
      ]
    },
    {
      "cell_type": "code",
      "execution_count": 147,
      "metadata": {
        "id": "SUGrrrRWBvKe"
      },
      "outputs": [],
      "source": [
        "# String of pixels to array of pixels\n",
        "df['pixels'] = df['pixels'].apply(lambda x: np.array(x.split(), dtype='float'))"
      ]
    },
    {
      "cell_type": "code",
      "execution_count": 168,
      "metadata": {
        "colab": {
          "base_uri": "https://localhost:8080/",
          "height": 690
        },
        "id": "b_tqPZnQ3e9G",
        "outputId": "ecf3df35-0175-43d1-8aee-c45452509721"
      },
      "outputs": [
        {
          "output_type": "display_data",
          "data": {
            "text/plain": [
              "<Figure size 1440x1440 with 15 Axes>"
            ],
            "image/png": "[encoded data removed]"
          },
          "metadata": {
            "needs_background": "light"
          }
        }
      ],
      "source": [
        "plt.figure(figsize=(20, 20))\n",
        "\n",
        "for i in range(15):  \n",
        "    index = np.random.randint(0, len(df))\n",
        "    plt.xticks([])\n",
        "    plt.yticks([])   \n",
        "    plt.grid(False)\n",
        "    plt.subplot(5, 5, i+1)\n",
        "    plt.imshow(df['pixels'].iloc[index].reshape(48, 48),\"gray\")\n",
        "    plt.title(' Age: {}\\n Ethnicity: {}\\n gender: {}'.format(df['age'].iloc[index], {0:\"White\", 1:\"Black\", 2:\"Asian\", 3:\"Indian\", 4:\"Hispanic\"}[df['ethnicity'].iloc[index]], {0:\"Male\", 1:\"Female\"}[df['gender'].iloc[index]]),loc=\"left\",color='red',fontsize = 8)\n",
        "\n",
        "plt.show()\n"
      ]
    },
    {
      "cell_type": "code",
      "execution_count": 148,
      "metadata": {
        "id": "KP_VT6Ff8qK_"
      },
      "outputs": [],
      "source": [
        "x = np.array(df['pixels'].tolist())\n",
        "x = np.reshape(x, (-1, img_height, img_width, 1))\n",
        "x = x/255 # Normalizing the images\n"
      ]
    },
    {
      "cell_type": "code",
      "execution_count": 149,
      "metadata": {
        "colab": {
          "base_uri": "https://localhost:8080/"
        },
        "id": "BRyeyVfR9FcQ",
        "outputId": "9cfa8283-b31f-4220-8625-43db6f67c9a0"
      },
      "outputs": [
        {
          "output_type": "execute_result",
          "data": {
            "text/plain": [
              "(23705, 48, 48, 1)"
            ]
          },
          "metadata": {},
          "execution_count": 149
        }
      ],
      "source": [
        "\"\"\"\n",
        "23705 48x48 images with only 1 channel (no color, just brightness intensity)\n",
        "\"\"\"\n",
        "x.shape "
      ]
    },
    {
      "cell_type": "markdown",
      "source": [
        "## First model - Gender prediction"
      ],
      "metadata": {
        "id": "yPFPqYY_AZwe"
      }
    },
    {
      "cell_type": "code",
      "execution_count": 158,
      "metadata": {
        "id": "Dx4WCakvEgEw"
      },
      "outputs": [],
      "source": [
        "y = np.array(df['gender'])\n",
        "\n",
        "x_train_gender, x_test_gender, y_train_gender, y_test_gender = train_test_split(x, y, test_size=0.2, random_state=222)"
      ]
    },
    {
      "cell_type": "code",
      "execution_count": 161,
      "metadata": {
        "colab": {
          "base_uri": "https://localhost:8080/"
        },
        "id": "usTK42gdDh56",
        "outputId": "13ccc5cb-23e7-4109-f55b-bf9c68da1ce9"
      },
      "outputs": [
        {
          "output_type": "stream",
          "name": "stdout",
          "text": [
            "Epoch 1/40\n",
            "593/593 [==============================] - 6s 9ms/step - loss: 0.4638 - accuracy: 0.7781\n",
            "Epoch 2/40\n",
            "593/593 [==============================] - 4s 6ms/step - loss: 0.3525 - accuracy: 0.8480\n",
            "Epoch 3/40\n",
            "593/593 [==============================] - 4s 6ms/step - loss: 0.3222 - accuracy: 0.8627\n",
            "Epoch 4/40\n",
            "593/593 [==============================] - 4s 6ms/step - loss: 0.3010 - accuracy: 0.8713\n",
            "Epoch 5/40\n",
            "593/593 [==============================] - 4s 6ms/step - loss: 0.2846 - accuracy: 0.8804\n",
            "Epoch 6/40\n",
            "593/593 [==============================] - 4s 6ms/step - loss: 0.2726 - accuracy: 0.8832\n",
            "Epoch 7/40\n",
            "593/593 [==============================] - 4s 6ms/step - loss: 0.2598 - accuracy: 0.8918\n",
            "Epoch 8/40\n",
            "593/593 [==============================] - 4s 6ms/step - loss: 0.2504 - accuracy: 0.8942\n",
            "Epoch 9/40\n",
            "593/593 [==============================] - 4s 6ms/step - loss: 0.2374 - accuracy: 0.9015\n",
            "Epoch 10/40\n",
            "593/593 [==============================] - 4s 6ms/step - loss: 0.2360 - accuracy: 0.9027\n",
            "Epoch 11/40\n",
            "593/593 [==============================] - 4s 6ms/step - loss: 0.2247 - accuracy: 0.9073\n",
            "Epoch 12/40\n",
            "593/593 [==============================] - 4s 6ms/step - loss: 0.2199 - accuracy: 0.9099\n",
            "Epoch 13/40\n",
            "593/593 [==============================] - 4s 6ms/step - loss: 0.2109 - accuracy: 0.9129\n",
            "Epoch 14/40\n",
            "593/593 [==============================] - 4s 6ms/step - loss: 0.2079 - accuracy: 0.9145\n",
            "Epoch 15/40\n",
            "593/593 [==============================] - 4s 6ms/step - loss: 0.2034 - accuracy: 0.9177\n",
            "Epoch 16/40\n",
            "593/593 [==============================] - 4s 6ms/step - loss: 0.1967 - accuracy: 0.9215\n",
            "Epoch 17/40\n",
            "593/593 [==============================] - 4s 6ms/step - loss: 0.1937 - accuracy: 0.9229\n",
            "Epoch 18/40\n",
            "593/593 [==============================] - 4s 6ms/step - loss: 0.1864 - accuracy: 0.9249\n",
            "Epoch 19/40\n",
            "593/593 [==============================] - 4s 6ms/step - loss: 0.1817 - accuracy: 0.9271\n",
            "Epoch 20/40\n",
            "593/593 [==============================] - 4s 7ms/step - loss: 0.1805 - accuracy: 0.9296\n",
            "Epoch 21/40\n",
            "593/593 [==============================] - 4s 6ms/step - loss: 0.1745 - accuracy: 0.9299\n",
            "Epoch 22/40\n",
            "593/593 [==============================] - 4s 6ms/step - loss: 0.1734 - accuracy: 0.9313\n",
            "Epoch 23/40\n",
            "593/593 [==============================] - 4s 6ms/step - loss: 0.1698 - accuracy: 0.9338\n",
            "Epoch 24/40\n",
            "593/593 [==============================] - 4s 6ms/step - loss: 0.1624 - accuracy: 0.9372\n",
            "Epoch 25/40\n",
            "593/593 [==============================] - 4s 6ms/step - loss: 0.1629 - accuracy: 0.9368\n",
            "Epoch 26/40\n",
            "593/593 [==============================] - 4s 6ms/step - loss: 0.1612 - accuracy: 0.9366\n",
            "Epoch 27/40\n",
            "593/593 [==============================] - 4s 6ms/step - loss: 0.1595 - accuracy: 0.9370\n",
            "Epoch 28/40\n",
            "593/593 [==============================] - 4s 6ms/step - loss: 0.1530 - accuracy: 0.9397\n",
            "Epoch 29/40\n",
            "593/593 [==============================] - 4s 6ms/step - loss: 0.1500 - accuracy: 0.9418\n",
            "Epoch 30/40\n",
            "593/593 [==============================] - 4s 6ms/step - loss: 0.1500 - accuracy: 0.9422\n",
            "Epoch 31/40\n",
            "593/593 [==============================] - 4s 6ms/step - loss: 0.1471 - accuracy: 0.9432\n",
            "Epoch 32/40\n",
            "593/593 [==============================] - 4s 6ms/step - loss: 0.1460 - accuracy: 0.9442\n",
            "Epoch 33/40\n",
            "593/593 [==============================] - 4s 6ms/step - loss: 0.1405 - accuracy: 0.9472\n",
            "Epoch 34/40\n",
            "593/593 [==============================] - 4s 6ms/step - loss: 0.1374 - accuracy: 0.9463\n",
            "Epoch 35/40\n",
            "593/593 [==============================] - 4s 6ms/step - loss: 0.1347 - accuracy: 0.9478\n",
            "Epoch 36/40\n",
            "593/593 [==============================] - 4s 6ms/step - loss: 0.1357 - accuracy: 0.9474\n",
            "Epoch 37/40\n",
            "593/593 [==============================] - 4s 6ms/step - loss: 0.1341 - accuracy: 0.9470\n",
            "Epoch 38/40\n",
            "593/593 [==============================] - 4s 6ms/step - loss: 0.1340 - accuracy: 0.9493\n",
            "Epoch 39/40\n",
            "593/593 [==============================] - 4s 6ms/step - loss: 0.1296 - accuracy: 0.9515\n",
            "Epoch 40/40\n",
            "593/593 [==============================] - 4s 6ms/step - loss: 0.1255 - accuracy: 0.9502\n"
          ]
        },
        {
          "output_type": "execute_result",
          "data": {
            "text/plain": [
              "<keras.callbacks.History at 0x7fea179e4390>"
            ]
          },
          "metadata": {},
          "execution_count": 161
        }
      ],
      "source": [
        "model_gender = build_model(output_act_fn='sigmoid', output_num_neurons=1, loss='binary_crossentropy', metrics=['accuracy'] ) \n",
        "model_gender.fit(x_train_gender, y_train_gender, epochs=40)"
      ]
    },
    {
      "cell_type": "code",
      "source": [
        "classification_evaluation(model_gender, x_test_gender, y_test_gender)"
      ],
      "metadata": {
        "colab": {
          "base_uri": "https://localhost:8080/",
          "height": 314
        },
        "id": "nTXizSxnArI1",
        "outputId": "3888a864-79a9-4384-cb4e-1c5933dd2b5c"
      },
      "execution_count": 162,
      "outputs": [
        {
          "output_type": "stream",
          "name": "stdout",
          "text": [
            "\n",
            " Accuracy: 90.12866483864164%\n"
          ]
        },
        {
          "output_type": "display_data",
          "data": {
            "text/plain": [
              "<Figure size 432x288 with 2 Axes>"
            ],
            "image/png": "[encoded data removed]"
          },
          "metadata": {
            "needs_background": "light"
          }
        }
      ]
    },
    {
      "cell_type": "markdown",
      "source": [
        "## Second model - Ethnicity prediction"
      ],
      "metadata": {
        "id": "pvJE06DlBwfi"
      }
    },
    {
      "cell_type": "code",
      "source": [
        "y_eth = np.array(df['ethnicity'])\n",
        "\n",
        "x_train_eth, x_test_eth, y_train_eth, y_test_eth = train_test_split(x, y_eth, test_size=0.2, random_state=222)"
      ],
      "metadata": {
        "id": "8sLDsnqeB22D"
      },
      "execution_count": 105,
      "outputs": []
    },
    {
      "cell_type": "code",
      "source": [
        "model_eth = build_model(output_act_fn='softmax', output_num_neurons=5, loss='sparse_categorical_crossentropy', metrics=['accuracy'] ) \n",
        "model_eth.fit(x_train_eth, y_train_eth, epochs=26)"
      ],
      "metadata": {
        "colab": {
          "base_uri": "https://localhost:8080/"
        },
        "id": "DW5vWekwCJkm",
        "outputId": "bc49bd88-1ae4-4208-f4e5-49802e553716"
      },
      "execution_count": 143,
      "outputs": [
        {
          "output_type": "stream",
          "name": "stdout",
          "text": [
            "Epoch 1/26\n",
            "593/593 [==============================] - 4s 6ms/step - loss: 1.0158 - accuracy: 0.6242\n",
            "Epoch 2/26\n",
            "593/593 [==============================] - 3s 6ms/step - loss: 0.7846 - accuracy: 0.7259\n",
            "Epoch 3/26\n",
            "593/593 [==============================] - 3s 6ms/step - loss: 0.7141 - accuracy: 0.7549\n",
            "Epoch 4/26\n",
            "593/593 [==============================] - 3s 6ms/step - loss: 0.6731 - accuracy: 0.7667\n",
            "Epoch 5/26\n",
            "593/593 [==============================] - 3s 6ms/step - loss: 0.6362 - accuracy: 0.7818\n",
            "Epoch 6/26\n",
            "593/593 [==============================] - 3s 6ms/step - loss: 0.6037 - accuracy: 0.7902\n",
            "Epoch 7/26\n",
            "593/593 [==============================] - 3s 6ms/step - loss: 0.5782 - accuracy: 0.7991\n",
            "Epoch 8/26\n",
            "593/593 [==============================] - 3s 6ms/step - loss: 0.5547 - accuracy: 0.8082\n",
            "Epoch 9/26\n",
            "593/593 [==============================] - 4s 6ms/step - loss: 0.5281 - accuracy: 0.8163\n",
            "Epoch 10/26\n",
            "593/593 [==============================] - 3s 6ms/step - loss: 0.5071 - accuracy: 0.8228\n",
            "Epoch 11/26\n",
            "593/593 [==============================] - 3s 6ms/step - loss: 0.4898 - accuracy: 0.8295\n",
            "Epoch 12/26\n",
            "593/593 [==============================] - 3s 6ms/step - loss: 0.4728 - accuracy: 0.8353\n",
            "Epoch 13/26\n",
            "593/593 [==============================] - 4s 6ms/step - loss: 0.4539 - accuracy: 0.8413\n",
            "Epoch 14/26\n",
            "593/593 [==============================] - 4s 6ms/step - loss: 0.4407 - accuracy: 0.8467\n",
            "Epoch 15/26\n",
            "593/593 [==============================] - 3s 6ms/step - loss: 0.4254 - accuracy: 0.8506\n",
            "Epoch 16/26\n",
            "593/593 [==============================] - 3s 6ms/step - loss: 0.3982 - accuracy: 0.8584\n",
            "Epoch 17/26\n",
            "593/593 [==============================] - 4s 6ms/step - loss: 0.3899 - accuracy: 0.8613\n",
            "Epoch 18/26\n",
            "593/593 [==============================] - 3s 6ms/step - loss: 0.3857 - accuracy: 0.8664\n",
            "Epoch 19/26\n",
            "593/593 [==============================] - 3s 6ms/step - loss: 0.3689 - accuracy: 0.8718\n",
            "Epoch 20/26\n",
            "593/593 [==============================] - 3s 6ms/step - loss: 0.3596 - accuracy: 0.8744\n",
            "Epoch 21/26\n",
            "593/593 [==============================] - 4s 6ms/step - loss: 0.3520 - accuracy: 0.8755\n",
            "Epoch 22/26\n",
            "593/593 [==============================] - 3s 6ms/step - loss: 0.3332 - accuracy: 0.8837\n",
            "Epoch 23/26\n",
            "593/593 [==============================] - 3s 6ms/step - loss: 0.3246 - accuracy: 0.8863\n",
            "Epoch 24/26\n",
            "593/593 [==============================] - 3s 6ms/step - loss: 0.3225 - accuracy: 0.8859\n",
            "Epoch 25/26\n",
            "593/593 [==============================] - 3s 6ms/step - loss: 0.3098 - accuracy: 0.8902\n",
            "Epoch 26/26\n",
            "593/593 [==============================] - 3s 6ms/step - loss: 0.3074 - accuracy: 0.8902\n"
          ]
        },
        {
          "output_type": "execute_result",
          "data": {
            "text/plain": [
              "<keras.callbacks.History at 0x7fea161e3fd0>"
            ]
          },
          "metadata": {},
          "execution_count": 143
        }
      ]
    },
    {
      "cell_type": "code",
      "source": [
        "classification_evaluation(model_eth, x_test_eth, y_test_eth)"
      ],
      "metadata": {
        "colab": {
          "base_uri": "https://localhost:8080/",
          "height": 314
        },
        "outputId": "ae8bcfae-85ba-48ca-f874-1556607dc262",
        "id": "1J25v4dICRjH"
      },
      "execution_count": 144,
      "outputs": [
        {
          "output_type": "stream",
          "name": "stdout",
          "text": [
            "\n",
            " Accuracy: 78.9706812908669%\n"
          ]
        },
        {
          "output_type": "display_data",
          "data": {
            "text/plain": [
              "<Figure size 432x288 with 2 Axes>"
            ],
            "image/png": "[encoded data removed]"
          },
          "metadata": {
            "needs_background": "light"
          }
        }
      ]
    },
    {
      "cell_type": "markdown",
      "source": [
        "## Third model - Age prediction"
      ],
      "metadata": {
        "id": "JczzWV2oNMys"
      }
    },
    {
      "cell_type": "code",
      "source": [
        "y_age = np.array(df['age'])\n",
        "\n",
        "x_train_age, x_test_age, y_train_age, y_test_age = train_test_split(x, y_age, test_size=0.2, random_state=222)"
      ],
      "metadata": {
        "id": "LExYD107NMy0"
      },
      "execution_count": 151,
      "outputs": []
    },
    {
      "cell_type": "code",
      "source": [
        "model_age = build_model(output_act_fn=None, output_num_neurons=1, loss='mae', metrics=['mae'] ) \n",
        "model_age.fit(x_train_age, y_train_age, epochs=26)"
      ],
      "metadata": {
        "colab": {
          "base_uri": "https://localhost:8080/"
        },
        "outputId": "18ff8446-a4dc-4027-f521-b82bc1c0b748",
        "id": "DReD9WyqNMy0"
      },
      "execution_count": 154,
      "outputs": [
        {
          "output_type": "stream",
          "name": "stdout",
          "text": [
            "Epoch 1/26\n",
            "593/593 [==============================] - 5s 7ms/step - loss: 14.8326 - mae: 14.8326\n",
            "Epoch 2/26\n",
            "593/593 [==============================] - 4s 6ms/step - loss: 12.2236 - mae: 12.2236\n",
            "Epoch 3/26\n",
            "593/593 [==============================] - 4s 6ms/step - loss: 11.5578 - mae: 11.5578\n",
            "Epoch 4/26\n",
            "593/593 [==============================] - 4s 6ms/step - loss: 11.0317 - mae: 11.0317\n",
            "Epoch 5/26\n",
            "593/593 [==============================] - 4s 6ms/step - loss: 10.7124 - mae: 10.7124\n",
            "Epoch 6/26\n",
            "593/593 [==============================] - 4s 6ms/step - loss: 10.3191 - mae: 10.3191\n",
            "Epoch 7/26\n",
            "593/593 [==============================] - 4s 7ms/step - loss: 9.9420 - mae: 9.9420\n",
            "Epoch 8/26\n",
            "593/593 [==============================] - 4s 6ms/step - loss: 9.6264 - mae: 9.6264\n",
            "Epoch 9/26\n",
            "593/593 [==============================] - 4s 6ms/step - loss: 9.3303 - mae: 9.3303\n",
            "Epoch 10/26\n",
            "593/593 [==============================] - 4s 6ms/step - loss: 9.1162 - mae: 9.1162\n",
            "Epoch 11/26\n",
            "593/593 [==============================] - 4s 6ms/step - loss: 8.9004 - mae: 8.9004\n",
            "Epoch 12/26\n",
            "593/593 [==============================] - 4s 6ms/step - loss: 8.7566 - mae: 8.7566\n",
            "Epoch 13/26\n",
            "593/593 [==============================] - 4s 6ms/step - loss: 8.5424 - mae: 8.5424\n",
            "Epoch 14/26\n",
            "593/593 [==============================] - 4s 6ms/step - loss: 8.4396 - mae: 8.4396\n",
            "Epoch 15/26\n",
            "593/593 [==============================] - 4s 6ms/step - loss: 8.2699 - mae: 8.2699\n",
            "Epoch 16/26\n",
            "593/593 [==============================] - 4s 6ms/step - loss: 8.1497 - mae: 8.1497\n",
            "Epoch 17/26\n",
            "593/593 [==============================] - 4s 6ms/step - loss: 7.9921 - mae: 7.9921\n",
            "Epoch 18/26\n",
            "593/593 [==============================] - 4s 6ms/step - loss: 7.9396 - mae: 7.9396\n",
            "Epoch 19/26\n",
            "593/593 [==============================] - 4s 6ms/step - loss: 7.8211 - mae: 7.8211\n",
            "Epoch 20/26\n",
            "593/593 [==============================] - 4s 6ms/step - loss: 7.6769 - mae: 7.6769\n",
            "Epoch 21/26\n",
            "593/593 [==============================] - 4s 6ms/step - loss: 7.6564 - mae: 7.6564\n",
            "Epoch 22/26\n",
            "593/593 [==============================] - 4s 6ms/step - loss: 7.5685 - mae: 7.5685\n",
            "Epoch 23/26\n",
            "593/593 [==============================] - 4s 6ms/step - loss: 7.4954 - mae: 7.4954\n",
            "Epoch 24/26\n",
            "593/593 [==============================] - 4s 6ms/step - loss: 7.4303 - mae: 7.4303\n",
            "Epoch 25/26\n",
            "593/593 [==============================] - 4s 6ms/step - loss: 7.3269 - mae: 7.3269\n",
            "Epoch 26/26\n",
            "593/593 [==============================] - 4s 6ms/step - loss: 7.3219 - mae: 7.3219\n"
          ]
        },
        {
          "output_type": "execute_result",
          "data": {
            "text/plain": [
              "<keras.callbacks.History at 0x7fe97a72e050>"
            ]
          },
          "metadata": {},
          "execution_count": 154
        }
      ]
    },
    {
      "cell_type": "code",
      "source": [
        "model_age.evaluate(x_test_age, y_test_age)"
      ],
      "metadata": {
        "colab": {
          "base_uri": "https://localhost:8080/"
        },
        "outputId": "0d72a70b-4201-4265-b445-c1e87fd47cd7",
        "id": "tcDzGgUvNMy0"
      },
      "execution_count": 157,
      "outputs": [
        {
          "output_type": "stream",
          "name": "stdout",
          "text": [
            "149/149 [==============================] - 1s 5ms/step - loss: 7.6992 - mae: 7.6992\n"
          ]
        },
        {
          "output_type": "execute_result",
          "data": {
            "text/plain": [
              "[7.699179172515869, 7.699179172515869]"
            ]
          },
          "metadata": {},
          "execution_count": 157
        }
      ]
    }
  ],
  "metadata": {
    "accelerator": "GPU",
    "colab": {
      "collapsed_sections": [],
      "name": "AgeEthnicityGender_CNN.ipynb",
      "provenance": [],
      "toc_visible": true
    },
    "gpuClass": "standard",
    "kernelspec": {
      "display_name": "Python 3",
      "name": "python3"
    },
    "language_info": {
      "name": "python"
    }
  },
  "nbformat": 4,
  "nbformat_minor": 0
}